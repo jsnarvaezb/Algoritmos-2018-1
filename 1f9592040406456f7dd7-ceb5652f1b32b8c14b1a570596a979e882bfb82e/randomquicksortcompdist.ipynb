{
 "cells": [
  {
   "cell_type": "markdown",
   "metadata": {},
   "source": [
    "### MacBook Pro\n",
    "#### Procesador 2.3 GHz Intel Core i7\n",
    "#### Memoria 8GB 1600 Mhz DDR3\n",
    "#### Intel HD Graphics 4000 1536 MB\n",
    "#### NVIDIA GeForce GT 650M 512MB"
   ]
  },
  {
   "cell_type": "code",
   "execution_count": 57,
   "metadata": {},
   "outputs": [],
   "source": [
    "import random\n",
    "import statistics\n",
    "import matplotlib.pyplot as plt\n",
    "import time\n",
    "%matplotlib inline"
   ]
  },
  {
   "cell_type": "code",
   "execution_count": 44,
   "metadata": {},
   "outputs": [],
   "source": [
    "time_count=0"
   ]
  },
  {
   "cell_type": "code",
   "execution_count": 45,
   "metadata": {},
   "outputs": [],
   "source": [
    "def randomquicksort(alist,times,time_count):\n",
    "    comp = [0]\n",
    "    randomquicksorthelper(alist,0,len(alist)-1,comp,time_count)\n",
    "    times.append(comp[0])\n",
    "    time_count=time_count+3\n",
    "    "
   ]
  },
  {
   "cell_type": "code",
   "execution_count": 46,
   "metadata": {},
   "outputs": [],
   "source": [
    "def randomquicksorthelper(alist,first,last,comp,time_count):\n",
    "    if first<last:\n",
    "        r = randompartition(alist,first,last,time_count)\n",
    "        splitpoint = r[0]\n",
    "        tmp = comp.pop()\n",
    "        comp.append(tmp+r[1])\n",
    "        randomquicksorthelper(alist,first,splitpoint-1,comp,time_count)\n",
    "        randomquicksorthelper(alist,splitpoint+1,last,comp,time_count)\n",
    "        time_count=time_count+6\n",
    "    time_count=time_count+1"
   ]
  },
  {
   "cell_type": "code",
   "execution_count": 47,
   "metadata": {},
   "outputs": [],
   "source": [
    "def randompartition(alist,first,last,time_count):\n",
    "  \n",
    "    indxpiv = random.randint(first,last)\n",
    "    temp = alist[indxpiv]\n",
    "    alist[indxpiv] = alist[first]\n",
    "    alist[first] = temp\n",
    "   \n",
    "    pivotvalue = alist[first]\n",
    "    compspart = 0\n",
    "\n",
    "    leftmark = first+1\n",
    "    rightmark = last\n",
    "\n",
    "    done = False\n",
    "    time_count=time_count+9\n",
    "    while not done:\n",
    "        \n",
    "        while leftmark <= rightmark and alist[leftmark] <= pivotvalue:\n",
    "            leftmark = leftmark + 1\n",
    "            compspart = compspart + 1\n",
    "            time_count=time_count+2\n",
    "        compspart = compspart + 1\n",
    "\n",
    "        while alist[rightmark] >= pivotvalue and rightmark >= leftmark:\n",
    "            rightmark = rightmark -1\n",
    "            compspart = compspart + 1\n",
    "            time_count=time_count+2\n",
    "        compspart = compspart + 1\n",
    "\n",
    "        if rightmark < leftmark:\n",
    "            done = True\n",
    "            time_count=time_count+1\n",
    "        else:\n",
    "            temp = alist[leftmark]\n",
    "            alist[leftmark] = alist[rightmark]\n",
    "            alist[rightmark] = temp\n",
    "            time_count=time_count+3\n",
    "        time_count=time_count+7\n",
    "        \n",
    "    temp = alist[first]\n",
    "    alist[first] = alist[rightmark]\n",
    "    alist[rightmark] = temp\n",
    "    time_count=time_count+4\n",
    "\n",
    "    return rightmark,compspart"
   ]
  },
  {
   "cell_type": "code",
   "execution_count": 114,
   "metadata": {},
   "outputs": [],
   "source": [
    "\n",
    "def randomquicksorttimedistrib(s,r,time_count):\n",
    "    starting_point = time.time()\n",
    "    # Create an array of 1 .. n  \n",
    "    n=s\n",
    "    runs=r\n",
    "    x = []\n",
    "    for i in range(1,n+1):\n",
    "        x.append(n+1-i)\n",
    "        time_count=time_count+1\n",
    "    \n",
    "     # Run quicksort for each permutation\n",
    "    tlist =[]\n",
    "    for p in range(1,runs+1):\n",
    "        y = list(x)\n",
    "        randomquicksort(y,tlist,time_count)\n",
    "        time_count=time_count+2\n",
    "          \n",
    "    time_count=time_count+6    \n",
    "    plt.hist(tlist)\n",
    "    plt.title(\"Number of comparison of Quicksort for all permutaions\")\n",
    "    plt.xlabel(\"Comparisons of elements\")\n",
    "    plt.ylabel(\"Frequency\")\n",
    "    plt.show()\n",
    "    \n",
    "    print(\"n\",n)\n",
    "    print(\"runs\",runs)\n",
    "    print(\"mean\",statistics.mean(tlist))\n",
    "    print(\"stdev\",statistics.stdev(tlist))\n",
    "    print(\"min\",min(tlist))\n",
    "    print(\"max\",max(tlist))\n",
    "    print(\"Number of computational steps \", time_count)\n",
    "    \n",
    "    elapsed_time = time.time () - starting_point\n",
    "    elapsed_time_minutes = (elapsed_time / 60) \n",
    "    elapsed_time_seconds = (elapsed_time %60)\n",
    "    \n",
    "    print(\"minutes\",elapsed_time_minutes)\n",
    "    print(\"seconds\",elapsed_time_seconds)\n",
    "\n",
    "    \n",
    "\n",
    "    "
   ]
  },
  {
   "cell_type": "code",
   "execution_count": 115,
   "metadata": {},
   "outputs": [
    {
     "data": {
      "image/png": "[encoded data removed]",
      "text/plain": [
       "<matplotlib.figure.Figure at 0x116c85210>"
      ]
     },
     "metadata": {},
     "output_type": "display_data"
    },
    {
     "name": "stdout",
     "output_type": "stream",
     "text": [
      "('n', 16)\n",
      "('runs', 10000000)\n",
      "('mean', 83.6648487)\n",
      "('stdev', 7.094212651090579)\n",
      "('min', 67)\n",
      "('max', 144)\n",
      "('Number of computational steps ', 20000022)\n",
      "('minutes', 21.980036401748656)\n",
      "('seconds', 58.802184104919434)\n"
     ]
    }
   ],
   "source": [
    "randomquicksorttimedistrib(16,10000000,0)"
   ]
  },
  {
   "cell_type": "code",
   "execution_count": 117,
   "metadata": {},
   "outputs": [
    {
     "name": "stdout",
     "output_type": "stream",
     "text": [
      "130000000\n"
     ]
    }
   ],
   "source": [
    "aux=10000000*13\n",
    "print aux"
   ]
  },
  {
   "cell_type": "code",
   "execution_count": null,
   "metadata": {},
   "outputs": [
    {
     "data": {
      "image/png": "[encoded data removed]",
      "text/plain": [
       "<matplotlib.figure.Figure at 0x116852e10>"
      ]
     },
     "metadata": {},
     "output_type": "display_data"
    },
    {
     "name": "stdout",
     "output_type": "stream",
     "text": [
      "('n', 16)\n",
      "('runs', 130000000)\n"
     ]
    }
   ],
   "source": [
    "randomquicksorttimedistrib(16,aux,0)"
   ]
  },
  {
   "cell_type": "code",
   "execution_count": null,
   "metadata": {},
   "outputs": [],
   "source": []
  }
 ],
 "metadata": {
  "kernelspec": {
   "display_name": "Python 2",
   "language": "python",
   "name": "python2"
  },
  "language_info": {
   "codemirror_mode": {
    "name": "ipython",
    "version": 2
   },
   "file_extension": ".py",
   "mimetype": "text/x-python",
   "name": "python",
   "nbconvert_exporter": "python",
   "pygments_lexer": "ipython2",
   "version": "2.7.14"
  }
 },
 "nbformat": 4,
 "nbformat_minor": 1
}
